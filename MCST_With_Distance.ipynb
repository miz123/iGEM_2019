{
  "nbformat": 4,
  "nbformat_minor": 0,
  "metadata": {
    "colab": {
      "name": "MCST_With_Distance.ipynb",
      "version": "0.3.2",
      "provenance": []
    },
    "kernelspec": {
      "name": "python3",
      "display_name": "Python 3"
    }
  },
  "cells": [
    {
      "cell_type": "code",
      "metadata": {
        "id": "75Wd8g-z8B_Y",
        "colab_type": "code",
        "colab": {}
      },
      "source": [
        "import math\n",
        "from Bio.SubsMat import MatrixInfo"
      ],
      "execution_count": 0,
      "outputs": []
    },
    {
      "cell_type": "code",
      "metadata": {
        "id": "RmYTSBSVClo3",
        "colab_type": "code",
        "colab": {}
      },
      "source": [
        "ALPHABET = ['A', 'R', 'N', 'D', 'C', 'Q', 'E', 'G', 'H', \n",
        "            'I', 'L', 'K', 'M', 'F', 'P', 'S', 'T', 'W', 'Y', 'V']"
      ],
      "execution_count": 0,
      "outputs": []
    },
    {
      "cell_type": "code",
      "metadata": {
        "id": "lFbN_DiW94xJ",
        "colab_type": "code",
        "colab": {}
      },
      "source": [
        "def pair_score(pair, matrix):\n",
        "    if pair not in matrix:\n",
        "        return matrix[(tuple(reversed(pair)))]\n",
        "    else:\n",
        "        return matrix[pair]"
      ],
      "execution_count": 0,
      "outputs": []
    },
    {
      "cell_type": "code",
      "metadata": {
        "id": "GEOKJYvS-xUJ",
        "colab_type": "code",
        "colab": {}
      },
      "source": [
        "def distance_score(seq1, seq2, matrix):\n",
        "    score = 0\n",
        "    for i in range(len(seq1)):\n",
        "        pair = (seq1[i], seq2[i])\n",
        "        score += pair_score(pair, matrix)\n",
        "    return score"
      ],
      "execution_count": 0,
      "outputs": []
    },
    {
      "cell_type": "code",
      "metadata": {
        "id": "DvG_RoY6-9cE",
        "colab_type": "code",
        "colab": {}
      },
      "source": [
        "blosum = MatrixInfo.blosum62"
      ],
      "execution_count": 0,
      "outputs": []
    },
    {
      "cell_type": "code",
      "metadata": {
        "id": "qDc7tKmM_DY9",
        "colab_type": "code",
        "colab": {
          "base_uri": "https://localhost:8080/",
          "height": 34
        },
        "outputId": "8e105d90-46cb-4a07-eff0-155b8e2b8b87"
      },
      "source": [
        "test_seq_1 = 'TGTYQAI'\n",
        "test_seq_2 = 'QHDAPSS'\n",
        "test_score = distance_score(test_seq_1, test_seq_2, blosum)\n",
        "print(test_score)"
      ],
      "execution_count": 9,
      "outputs": [
        {
          "output_type": "stream",
          "text": [
            "-8\n"
          ],
          "name": "stdout"
        }
      ]
    },
    {
      "cell_type": "code",
      "metadata": {
        "id": "fFRItEDs8wTY",
        "colab_type": "code",
        "colab": {}
      },
      "source": [
        "class MCTree:\n",
        "    def __init__(self, exploration_weight=1):\n",
        "        self.Q = defaultdict(int)  # total reward of each node\n",
        "        self.N = defaultdict(int)  # total visit count for each node\n",
        "        self.children = dict()  # children of nodes\n",
        "        self.exploration_weight = exploration_weight\n",
        "\n",
        "    def choose(self, node):\n",
        "        \"Choose the best successor of node. (Choose a move in the game)\"\n",
        "        if node.is_terminal():\n",
        "            raise RuntimeError(f\"choose called on terminal node {node}\")\n",
        "\n",
        "        if node not in self.children:\n",
        "            return node.find_random_child()\n",
        "        def score(n):\n",
        "            if self.N[n] == 0:\n",
        "                return float(\"-inf\")  # avoid unseen moves\n",
        "            return self.Q[n] / self.N[n]  # average reward\n",
        "\n",
        "        return max(self.children[node], key=score)\n",
        "\n",
        "    def do_rollout(self, node):\n",
        "        path = self._select(node)\n",
        "        leaf = path[-1]\n",
        "        self._expand(leaf)\n",
        "        reward = self._simulate(leaf)\n",
        "        self._backpropagate(path, reward)\n",
        "\n",
        "    def _select(self, node):\n",
        "        path = []\n",
        "        while True:\n",
        "            path.append(node)\n",
        "            if node not in self.children or not self.children[node]:\n",
        "                # node is either unexplored or terminal\n",
        "                return path\n",
        "            unexplored = self.children[node] - self.children.keys()\n",
        "            if unexplored:\n",
        "                n = unexplored.pop()\n",
        "                path.append(n)\n",
        "                return path\n",
        "            node = self._uct_select(node)  # descend a layer deeper\n",
        "\n",
        "    def _expand(self, node):\n",
        "        if node in self.children:\n",
        "            return  # already expanded\n",
        "        self.children[node] = node.find_children()\n",
        "\n",
        "    def _simulate(self, node):\n",
        "        while True:\n",
        "            if node.is_terminal():\n",
        "                reward = node.reward()\n",
        "                return reward\n",
        "            node = node.find_random_child()\n",
        "\n",
        "    def _backpropagate(self, path, reward):\n",
        "        for node in reversed(path):\n",
        "            self.N[node] += 1\n",
        "            self.Q[node] += reward\n",
        "            \n",
        "    def _uct_select(self, node):\n",
        "        \"Select a child of node, balancing exploration & exploitation\"\n",
        "\n",
        "        # All children of node should already be expanded:\n",
        "        assert all(n in self.children for n in self.children[node])\n",
        "\n",
        "        log_N_vertex = math.log(self.N[node])\n",
        "\n",
        "        def uct(n):\n",
        "            \"Upper confidence bound for trees\"\n",
        "            return self.Q[n] / self.N[n] + self.exploration_weight * math.sqrt(\n",
        "                log_N_vertex / self.N[n]\n",
        "            )\n",
        "\n",
        "        return max(self.children[node], key=uct)\n"
      ],
      "execution_count": 0,
      "outputs": []
    },
    {
      "cell_type": "code",
      "metadata": {
        "id": "b0vQPDNOCcU6",
        "colab_type": "code",
        "colab": {}
      },
      "source": [
        "def embed(seq, alphabet):\n",
        "  vec = [0] * 20\n",
        "  for i in range(len(seq)):\n",
        "    mark_index = alphabet.index(seq[i])\n",
        "    vec[mark_index] = 1\n",
        "  return vec"
      ],
      "execution_count": 0,
      "outputs": []
    },
    {
      "cell_type": "code",
      "metadata": {
        "id": "sMf5DsH9DB6S",
        "colab_type": "code",
        "colab": {}
      },
      "source": [
        ""
      ],
      "execution_count": 0,
      "outputs": []
    }
  ]
}