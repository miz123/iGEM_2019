{
  "nbformat": 4,
  "nbformat_minor": 0,
  "metadata": {
    "colab": {
      "name": "iGEM2019-Clustering.ipynb",
      "version": "0.3.2",
      "provenance": []
    },
    "kernelspec": {
      "name": "python3",
      "display_name": "Python 3"
    }
  },
  "cells": [
    {
      "cell_type": "code",
      "metadata": {
        "id": "XO0MDPZzg61H",
        "colab_type": "code",
        "colab": {}
      },
      "source": [
        "import numpy as np\n",
        "%matplotlib inline\n",
        "import matplotlib.pyplot as plt\n",
        "from copy import deepcopy"
      ],
      "execution_count": 0,
      "outputs": []
    },
    {
      "cell_type": "code",
      "metadata": {
        "id": "44bICB_1f7i5",
        "colab_type": "code",
        "colab": {}
      },
      "source": [
        "def k_means_clustering(k, x_list, y_list):\n",
        "\n",
        "  # Initialize data input and two centroid states\n",
        "  x_centroids = np.random.randint(min(x_list), max(x_list), size=k)\n",
        "  y_centroids = np.random.randint(min(y_list), max(y_list), size=k)\n",
        "  centroids = np.array(list(zip(x_centroids, y_centroids)))\n",
        "  data_input = np.array(list(zip(x_list, y_list)))\n",
        "  labels = np.zeros(data_input.shape)\n",
        "  prev_centroids = np.zeros(centroids.shape)\n",
        "  loss = dist(centroids, prev_centroids)\n",
        "\n",
        "  # Main loop of clustering\n",
        "  while loss != 0:\n",
        "\n",
        "    # we first assign labels base on initial centroids\n",
        "    for i in range(len(data_input)):\n",
        "      individual_data_dist = dist(data_input[i], centroids)\n",
        "      # label of one data: we assign the label basing on the minimized distance with centroids\n",
        "      label_clustered = np.argmin(individual_data_dist)\n",
        "      cluster_labels[i] = label_clustered\n",
        "    prev_centroids = deepcopy(centroids)\n",
        "\n",
        "    # update the centroids based on mean\n",
        "    for i in range(k):\n",
        "      points = [data_input[j] for j in range(len(data_input)) if cluster_labels[j] == i]\n",
        "      centroids[i] = np.mean(points, axis=0)\n",
        "    loss = dist(centroids, prev_centroids)\n",
        "\n",
        "  return cluster_labels, data_input, centroids"
      ],
      "execution_count": 0,
      "outputs": []
    },
    {
      "cell_type": "code",
      "metadata": {
        "id": "9tEjrbNPl61K",
        "colab_type": "code",
        "colab": {}
      },
      "source": [
        "def plot_clustering(labels, data, centroids):\n",
        "  colors = ['r', 'g', 'b', 'y', 'c', 'm']\n",
        "  fig, ax = plt.subplots()\n",
        "  fig_size = plt.rcParams[\"figure.figsize\"]\n",
        "  fig_size[0] = 12\n",
        "  fig_size[1] = 9\n",
        "  plt.rcParams[\"figure.figsize\"] = fig_size\n",
        "  for i in range(k):\n",
        "    points = np.array([data[j] for j in range(len(data)) if labels[j] == i])\n",
        "    ax.scatter(points[:, 0], points[:, 1], s=7, c=colors[i])\n",
        "  ax.scatter(centroids[:, 0], centroids[:, 1], marker='*', s=200, c='#050505')"
      ],
      "execution_count": 0,
      "outputs": []
    }
  ]
}