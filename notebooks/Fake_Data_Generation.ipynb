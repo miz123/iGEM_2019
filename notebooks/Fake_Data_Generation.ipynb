{
 "cells": [
  {
   "cell_type": "code",
   "execution_count": 1,
   "metadata": {
    "colab": {},
    "colab_type": "code",
    "id": "XkBgm0QB30as"
   },
   "outputs": [],
   "source": [
    "import numpy as np\n",
    "import pandas as pd\n",
    "from tqdm import trange\n",
    "import random"
   ]
  },
  {
   "cell_type": "code",
   "execution_count": 2,
   "metadata": {
    "colab": {
     "base_uri": "https://localhost:8080/",
     "height": 34
    },
    "colab_type": "code",
    "id": "mM68shv74uyr",
    "outputId": "cc6ebc1e-3423-4d80-98b3-b9b48cf03873"
   },
   "outputs": [
    {
     "name": "stdout",
     "output_type": "stream",
     "text": [
      "20\n"
     ]
    }
   ],
   "source": [
    "ALPHABET = ['A', 'R', 'N', 'D', 'C', 'Q', 'E', 'G', 'H', \n",
    "            'I', 'L', 'K', 'M', 'F', 'P', 'S', 'T', 'W', 'Y', 'V']\n",
    "print(len(ALPHABET))"
   ]
  },
  {
   "cell_type": "code",
   "execution_count": 3,
   "metadata": {
    "colab": {},
    "colab_type": "code",
    "id": "oNSFTB-h3_lT"
   },
   "outputs": [],
   "source": [
    "def gen_fake_data(length):\n",
    "    seq_list = []\n",
    "    data_list = []\n",
    "    for i in trange(length):\n",
    "        seq = random.choices(ALPHABET, k=7)\n",
    "        seq_individual = ''.join(seq)\n",
    "        seq_list.append(seq_individual)\n",
    "        data_list.append(random.randint(0,100))\n",
    "        col_list = ['seq', 'num_bounding']\n",
    "    df = pd.DataFrame(zip(seq_list, data_list), columns=col_list)\n",
    "    return df"
   ]
  },
  {
   "cell_type": "code",
   "execution_count": 4,
   "metadata": {
    "colab": {
     "base_uri": "https://localhost:8080/",
     "height": 34
    },
    "colab_type": "code",
    "id": "Zsx-YWLP60E1",
    "outputId": "834cc8ce-f230-4623-e162-4673c1d665fd"
   },
   "outputs": [
    {
     "name": "stderr",
     "output_type": "stream",
     "text": [
      "100%|██████████| 1000000/1000000 [00:03<00:00, 269361.44it/s]\n"
     ]
    }
   ],
   "source": [
    "df1 = gen_fake_data(10**6)"
   ]
  },
  {
   "cell_type": "code",
   "execution_count": 7,
   "metadata": {
    "colab": {
     "base_uri": "https://localhost:8080/",
     "height": 1000
    },
    "colab_type": "code",
    "id": "7KrxHi507MhM",
    "outputId": "d868e7c2-a86c-4261-8983-5b4d6f839c3b"
   },
   "outputs": [],
   "source": [
    "seq_list = df1['seq'].to_list()\n",
    "with open('seq_for_seperation.txt', 'w') as f:\n",
    "    for s in seq_list:\n",
    "        f.write('_' + s + '\\n')"
   ]
  },
  {
   "cell_type": "code",
   "execution_count": null,
   "metadata": {},
   "outputs": [],
   "source": []
  }
 ],
 "metadata": {
  "colab": {
   "name": "Fake Data Generation.ipynb",
   "provenance": [],
   "version": "0.3.2"
  },
  "kernelspec": {
   "display_name": "Python 3",
   "language": "python",
   "name": "python3"
  },
  "language_info": {
   "codemirror_mode": {
    "name": "ipython",
    "version": 3
   },
   "file_extension": ".py",
   "mimetype": "text/x-python",
   "name": "python",
   "nbconvert_exporter": "python",
   "pygments_lexer": "ipython3",
   "version": "3.7.3"
  }
 },
 "nbformat": 4,
 "nbformat_minor": 1
}
