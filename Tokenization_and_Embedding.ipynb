{
 "cells": [
  {
   "cell_type": "code",
   "execution_count": 1,
   "metadata": {},
   "outputs": [],
   "source": [
    "import sentencepiece as spm\n",
    "from gensim.models import Word2Vec\n",
    "from gensim.models.word2vec import LineSentence\n",
    "import datetime\n",
    "import numpy as np\n",
    "from sklearn.model_selection import train_test_split\n",
    "import tensorflow as tf\n",
    "from tensorflow.keras.models import load_model\n",
    "from sklearn.metrics.scorer import accuracy_score\n",
    "import matplotlib.pyplot as plt\n",
    "from sklearn.metrics import roc_curve, auc\n",
    "from tqdm import tqdm"
   ]
  },
  {
   "cell_type": "code",
   "execution_count": 3,
   "metadata": {},
   "outputs": [
    {
     "data": {
      "text/plain": [
       "True"
      ]
     },
     "execution_count": 3,
     "metadata": {},
     "output_type": "execute_result"
    }
   ],
   "source": [
    "# Train a sentence piece model to segment sequences\n",
    "spm.SentencePieceTrainer.Train('--input=/Users/Kbutterstrap/Desktop/iGEM_2019/Tokenization/seq_for_seperation.txt --model_prefix=/Users/Kbutterstrap/Desktop/iGEM_2019/seg')"
   ]
  },
  {
   "cell_type": "code",
   "execution_count": 3,
   "metadata": {},
   "outputs": [
    {
     "data": {
      "text/plain": [
       "True"
      ]
     },
     "execution_count": 3,
     "metadata": {},
     "output_type": "execute_result"
    }
   ],
   "source": [
    "model_path = '/Users/Kbutterstrap/Desktop/iGEM_2019/models/seg.model'\n",
    "sp = spm.SentencePieceProcessor()\n",
    "sp.Load(model_path)"
   ]
  },
  {
   "cell_type": "code",
   "execution_count": 5,
   "metadata": {},
   "outputs": [],
   "source": [
    "with open('data/tokenized_fake.txt', 'w') as f, \\\n",
    "    open('data/seq_for_seperation.txt', 'r') as f_a:\n",
    "    start = 0\n",
    "    for lines in f_a:\n",
    "        #first line of the file\n",
    "        if start == 0:\n",
    "            current_protein = lines[1:]\n",
    "        #first line of another sequence\n",
    "        if (lines[0] == '_') & (start != 0):\n",
    "            token_list = sp.EncodeAsPieces(current_protein)\n",
    "            for t in token_list:\n",
    "                if token_list.index(t) == 0:\n",
    "                    f.write('\\n' + t + ' ')\n",
    "                else:\n",
    "                    f.write(t + ' ')\n",
    "            current_protein = lines[1:]\n",
    "        #within the range of one sequence\n",
    "        else:\n",
    "            current_protein += lines\n",
    "            start += 1"
   ]
  },
  {
   "cell_type": "code",
   "execution_count": 11,
   "metadata": {},
   "outputs": [],
   "source": [
    "def train_w2v(filename):\n",
    "    print(\"Training data loading...\")\n",
    "    train_sentence = LineSentence(filename)\n",
    "    print(\"Start training w2v...\", datetime.datetime.now())\n",
    "    model = Word2Vec(train_sentence, sg=1, workers=10, iter=50, min_count=1)\n",
    "    print(\"Training finished. Time\", datetime.datetime.now())\n",
    "    print('Saving trained model...')\n",
    "    model.save('w2v_model')\n",
    "    print('DONE')"
   ]
  },
  {
   "cell_type": "code",
   "execution_count": 12,
   "metadata": {},
   "outputs": [
    {
     "name": "stdout",
     "output_type": "stream",
     "text": [
      "Training data loading...\n",
      "Start training w2v... 2019-09-19 15:28:42.925196\n",
      "Training finished. Time 2019-09-19 15:32:40.840828\n",
      "Saving trained model...\n",
      "DONE\n"
     ]
    }
   ],
   "source": [
    "train_w2v('tokenized_fake.txt')"
   ]
  },
  {
   "cell_type": "code",
   "execution_count": 13,
   "metadata": {},
   "outputs": [],
   "source": [
    "def seq_to_vector(filename):\n",
    "    vectors = []\n",
    "    model = Word2Vec.load('models/w2v_model')\n",
    "    with open(filename, 'r') as f:\n",
    "        lines = list(f)\n",
    "    for l in tqdm(lines, total=len(lines), position=0):\n",
    "        l = l[1:].strip().split()\n",
    "        sentence_vec = np.copy(model.wv.word_vec(l[0]))\n",
    "        l = l[1:]\n",
    "        for l_p in l:\n",
    "            w2v = model.wv.word_vec(l_p)\n",
    "            word_vec = np.copy(w2v)\n",
    "            sentence_vec += word_vec\n",
    "        vectors.append(w2v)\n",
    "    return vectors"
   ]
  },
  {
   "cell_type": "code",
   "execution_count": 14,
   "metadata": {},
   "outputs": [
    {
     "name": "stderr",
     "output_type": "stream",
     "text": [
      "100%|██████████| 999999/999999 [00:09<00:00, 104832.85it/s]\n"
     ]
    }
   ],
   "source": [
    "vec_list = seq_to_vector('data/tokenized_fake.txt')"
   ]
  },
  {
   "cell_type": "code",
   "execution_count": 16,
   "metadata": {},
   "outputs": [
    {
     "data": {
      "text/plain": [
       "999999"
      ]
     },
     "execution_count": 16,
     "metadata": {},
     "output_type": "execute_result"
    }
   ],
   "source": [
    "len(vec_list)"
   ]
  },
  {
   "cell_type": "code",
   "execution_count": 17,
   "metadata": {},
   "outputs": [
    {
     "data": {
      "text/plain": [
       "(999999, 100)"
      ]
     },
     "execution_count": 17,
     "metadata": {},
     "output_type": "execute_result"
    }
   ],
   "source": [
    "vec_np = np.array(vec_list)\n",
    "vec_np.shape"
   ]
  },
  {
   "cell_type": "code",
   "execution_count": 18,
   "metadata": {},
   "outputs": [],
   "source": [
    "np.save('data/seq_vectors.npy', vec_np)"
   ]
  }
 ],
 "metadata": {
  "kernelspec": {
   "display_name": "Python 3",
   "language": "python",
   "name": "python3"
  },
  "language_info": {
   "codemirror_mode": {
    "name": "ipython",
    "version": 3
   },
   "file_extension": ".py",
   "mimetype": "text/x-python",
   "name": "python",
   "nbconvert_exporter": "python",
   "pygments_lexer": "ipython3",
   "version": "3.7.3"
  }
 },
 "nbformat": 4,
 "nbformat_minor": 2
}
