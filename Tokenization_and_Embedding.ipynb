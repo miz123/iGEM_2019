{
 "cells": [
  {
   "cell_type": "code",
   "execution_count": 26,
   "metadata": {},
   "outputs": [],
   "source": [
    "import sentencepiece as spm\n",
    "from gensim.models import Word2Vec\n",
    "from gensim.models.word2vec import LineSentence\n",
    "import datetime\n",
    "import numpy as np\n",
    "from sklearn.model_selection import train_test_split\n",
    "import tensorflow as tf\n",
    "from tensorflow.keras.models import load_model\n",
    "from sklearn.metrics.scorer import accuracy_score\n",
    "import matplotlib.pyplot as plt\n",
    "from sklearn.metrics import roc_curve, auc\n",
    "from tqdm import tqdm"
   ]
  },
  {
   "cell_type": "code",
   "execution_count": 3,
   "metadata": {},
   "outputs": [
    {
     "data": {
      "text/plain": [
       "True"
      ]
     },
     "execution_count": 3,
     "metadata": {},
     "output_type": "execute_result"
    }
   ],
   "source": [
    "# Train a sentence piece model to segment sequences\n",
    "spm.SentencePieceTrainer.Train('--input=/Users/Kbutterstrap/Desktop/iGEM_2019/Tokenization/seq_for_seperation.txt --model_prefix=/Users/Kbutterstrap/Desktop/iGEM_2019/seg')"
   ]
  },
  {
   "cell_type": "code",
   "execution_count": 5,
   "metadata": {},
   "outputs": [
    {
     "data": {
      "text/plain": [
       "True"
      ]
     },
     "execution_count": 5,
     "metadata": {},
     "output_type": "execute_result"
    }
   ],
   "source": [
    "model_path = '/Users/Kbutterstrap/Desktop/iGEM_2019/seg.model'\n",
    "sp = spm.SentencePieceProcessor()\n",
    "sp.Load(model_path)"
   ]
  },
  {
   "cell_type": "code",
   "execution_count": 7,
   "metadata": {},
   "outputs": [],
   "source": [
    "with open('tokenized_fake.txt', 'w') as f, \\\n",
    "    open('seq_for_seperation.txt', 'r') as f_a:\n",
    "    start = 0\n",
    "    for lines in f_a:\n",
    "        #first line of the file\n",
    "        if start == 0:\n",
    "            current_protein = lines[1:]\n",
    "        #first line of another sequence\n",
    "        if (lines[0] == '_') & (start != 0):\n",
    "            token_list = sp.EncodeAsPieces(current_protein)\n",
    "            for t in token_list:\n",
    "                if token_list.index(t) == 0:\n",
    "                    f.write('\\n' + t + ' ')\n",
    "                else:\n",
    "                    f.write(t + ' ')\n",
    "            current_protein = lines[1:]\n",
    "        #within the range of one sequence\n",
    "        else:\n",
    "            current_protein += lines\n",
    "            start += 1"
   ]
  },
  {
   "cell_type": "code",
   "execution_count": 11,
   "metadata": {},
   "outputs": [],
   "source": [
    "def train_w2v(filename):\n",
    "    print(\"Training data loading...\")\n",
    "    train_sentence = LineSentence(filename)\n",
    "    print(\"Start training w2v...\", datetime.datetime.now())\n",
    "    model = Word2Vec(train_sentence, sg=1, workers=10, iter=50, min_count=1)\n",
    "    print(\"Training finished. Time\", datetime.datetime.now())\n",
    "    print('Saving trained model...')\n",
    "    model.save('w2v_model')\n",
    "    print('DONE')"
   ]
  },
  {
   "cell_type": "code",
   "execution_count": 12,
   "metadata": {},
   "outputs": [
    {
     "name": "stdout",
     "output_type": "stream",
     "text": [
      "Training data loading...\n",
      "Start training w2v... 2019-09-19 15:28:42.925196\n",
      "Training finished. Time 2019-09-19 15:32:40.840828\n",
      "Saving trained model...\n",
      "DONE\n"
     ]
    }
   ],
   "source": [
    "train_w2v('tokenized_fake.txt')"
   ]
  },
  {
   "cell_type": "code",
   "execution_count": 27,
   "metadata": {},
   "outputs": [],
   "source": [
    "def seq_to_vector(filename):\n",
    "    vectors = []\n",
    "    model = Word2Vec.load('w2v_model')\n",
    "    with open(filename, 'r') as f:\n",
    "        lines = list(f)\n",
    "    for l in tqdm(lines, total=len(lines), position=0):\n",
    "        l = l[1:].strip().split()\n",
    "        sentence_vec = np.copy(model.wv.word_vec(l[0]))\n",
    "        l = l[1:]\n",
    "        for l_p in l:\n",
    "            w2v = model.wv.word_vec(l_p)\n",
    "            word_vec = np.copy(w2v)\n",
    "            sentence_vec += word_vec\n",
    "        vectors.append(w2v)\n",
    "    return vectors"
   ]
  },
  {
   "cell_type": "code",
   "execution_count": 28,
   "metadata": {},
   "outputs": [
    {
     "name": "stderr",
     "output_type": "stream",
     "text": [
      "100%|██████████| 999999/999999 [00:10<00:00, 97023.12it/s]\n"
     ]
    }
   ],
   "source": [
    "vec_list = seq_to_vector('tokenized_fake.txt')"
   ]
  },
  {
   "cell_type": "code",
   "execution_count": 33,
   "metadata": {},
   "outputs": [
    {
     "data": {
      "text/plain": [
       "array([ 0.49376258, -0.04863574, -0.08934297,  0.5419286 , -0.02641163,\n",
       "       -0.5598214 ,  0.7205441 , -0.50720066, -0.25759354,  0.33942303,\n",
       "       -0.11762138,  0.28954136,  0.21736398,  0.3994069 , -0.05856253,\n",
       "        0.44108242,  0.19643083, -0.39851502,  0.42666486, -0.0207038 ,\n",
       "       -0.02349987,  0.14633283,  0.0283577 , -0.2827237 , -0.17783149,\n",
       "       -0.16719225,  0.6900813 , -0.24106178, -0.28042758,  0.20822479,\n",
       "       -0.02559084,  0.04714456,  0.05040161, -0.33121407, -0.20649062,\n",
       "        0.30674982,  0.0639196 ,  0.0524102 , -0.11731397,  0.24896349,\n",
       "        0.41546154,  0.30132976, -0.19770172,  0.00688319,  0.17285962,\n",
       "        0.26493493, -0.16574487,  0.079319  , -0.13747118,  0.31354335,\n",
       "        0.22191371, -0.21060339,  0.17862594,  0.42991298,  0.7693046 ,\n",
       "        0.06751509,  0.23081692, -0.13026395,  0.10514796,  0.3012194 ,\n",
       "       -0.18611918, -0.5031955 , -0.10528275, -0.36862406,  0.2936876 ,\n",
       "        0.26366392,  0.35900638, -0.05209184,  0.40159002, -0.38512248,\n",
       "       -0.2524286 , -0.24988455,  0.00171483,  0.10709208, -0.43359342,\n",
       "       -0.8692126 , -0.40209478, -0.45305768,  0.2563906 , -0.30641022,\n",
       "        0.574872  ,  0.7865449 , -0.5064898 , -0.62142104,  0.37344357,\n",
       "        0.27616066, -0.32387143, -0.73714453,  0.2998061 , -0.46688446,\n",
       "       -0.01378391, -0.46297845, -0.313753  ,  0.36901245, -0.4289383 ,\n",
       "       -0.07439728,  0.32304457,  0.01409972,  0.13659945,  0.1458476 ],\n",
       "      dtype=float32)"
      ]
     },
     "execution_count": 33,
     "metadata": {},
     "output_type": "execute_result"
    }
   ],
   "source": [
    "vec_list[0]"
   ]
  },
  {
   "cell_type": "code",
   "execution_count": null,
   "metadata": {},
   "outputs": [],
   "source": []
  }
 ],
 "metadata": {
  "kernelspec": {
   "display_name": "Python 3",
   "language": "python",
   "name": "python3"
  },
  "language_info": {
   "codemirror_mode": {
    "name": "ipython",
    "version": 3
   },
   "file_extension": ".py",
   "mimetype": "text/x-python",
   "name": "python",
   "nbconvert_exporter": "python",
   "pygments_lexer": "ipython3",
   "version": "3.7.3"
  }
 },
 "nbformat": 4,
 "nbformat_minor": 2
}
